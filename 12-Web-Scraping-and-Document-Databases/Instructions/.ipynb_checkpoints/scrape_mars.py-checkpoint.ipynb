{
 "cells": [
  {
   "cell_type": "code",
   "execution_count": 1,
   "metadata": {},
   "outputs": [],
   "source": [
    "def scrape():\n",
    "    import pandas as pd\n",
    "    from bs4 import BeautifulSoup as bs\n",
    "    import requests\n",
    "    import pymongo\n",
    "    from splinter import Browser\n",
    "    full_info={}\n",
    "    url = \"https://mars.nasa.gov/news/\"\n",
    "    response = requests.get(url)\n",
    "    soup = bs(response.text, 'html.parser')\n",
    "    print(soup.prettify())\n",
    "    news_title = soup.find(\"div\", class_= \"content_title\").text\n",
    "    full_info[\"news_title\"] = news_title\n",
    "    executable_path = {'executable_path': 'chromedriver.exe'}\n",
    "    browser = Browser('chrome', **executable_path, headless=False)\n",
    "    url = 'https://www.jpl.nasa.gov/spaceimages/?search=&category=Mars'\n",
    "    browser.visit(url)\n",
    "    browser.click_link_by_partial_text(\"FULL IMAGE\")\n",
    "    browser.click_link_by_partial_text(\"more info\")\n",
    "    img_html = browser.html\n",
    "    soup= bs(img_html, \"html.parser\")\n",
    "    img = soup.find(\"figure\").find(\"a\")[\"href\"]\n",
    "    full_url = url + img\n",
    "    full_info[\"Img_url\"]= full_url\n",
    "    url = \"https://twitter.com/marswxreport?lang=en\"\n",
    "    response = requests.get(url)\n",
    "    soup = bs(response.text, \"html.parser\")\n",
    "    tweet = soup.find(\"div\", class_=\"js-tweet-text-container\").text\n",
    "    full_url[\"Tweet\"]= tweet\n",
    "    mars = pd.read_html(\"https://space-facts.com/mars/\")\n",
    "    mars_facts = mars[0]\n",
    "    mars_html = mars_facts.to_html().strip()\n",
    "    full_url[\"html_table\"]= mars_html\n",
    "    executable_path = {'executable_path': 'chromedriver.exe'}\n",
    "    browser = Browser('chrome', **executable_path, headless=False)\n",
    "    url = 'https://astrogeology.usgs.gov/search/results?q=hemisphere+enhanced&k1=target&v1=Mars'\n",
    "    browser.visit(url)\n",
    "    page_html = browser.html\n",
    "    soup= bs(page_html, \"html.parser\")\n",
    "    astro_list= []\n",
    "    hems = soup.find_all(\"div\", class_= \"description\")\n",
    "\n",
    "    for hem in hems:\n",
    "        title = hem.find(\"h3\").text\n",
    "        page = hem.find(\"a\")[\"href\"]\n",
    "        browser.visit(f\"https://astrogeology.usgs.gov{page}\")\n",
    "        page_html = browser.html\n",
    "        soup = bs(page_html, \"html.parser\")\n",
    "        img = soup.find(\"div\", class_=\"downloads\").find(\"a\")[\"href\"]\n",
    "        astro_list.append({\"title\": title, \"Image URL\": img})\n",
    "    full_info[\"hemispheres\"]= astro_list\n",
    "    return full_info\n"
   ]
  }
 ],
 "metadata": {
  "kernelspec": {
   "display_name": "Python 3",
   "language": "python",
   "name": "python3"
  },
  "language_info": {
   "codemirror_mode": {
    "name": "ipython",
    "version": 3
   },
   "file_extension": ".py",
   "mimetype": "text/x-python",
   "name": "python",
   "nbconvert_exporter": "python",
   "pygments_lexer": "ipython3",
   "version": "3.6.9"
  }
 },
 "nbformat": 4,
 "nbformat_minor": 2
}
